{
  "cells": [
    {
      "cell_type": "markdown",
      "metadata": {
        "id": "view-in-github"
      },
      "source": [
        "[![Open In Colab](https://colab.research.google.com/assets/colab-badge.svg)](https://colab.research.google.com/github/camenduru/MVDream-colab/blob/main/MVDream_3D_colab.ipynb)"
      ]
    },
    {
      "cell_type": "code",
      "execution_count": null,
      "metadata": {
        "colab": {
          "base_uri": "https://localhost:8080/"
        },
        "id": "or07WR6F5sOS",
        "outputId": "53be63ef-8682-4e45-ef80-38c136e9236b"
      },
      "outputs": [],
      "source": [
        "!pip install -q torch==2.2.1+cu121 torchvision==0.17.1+cu121 torchaudio==2.2.1+cu121 --index-url https://download.pytorch.org/whl/cu121"
      ]
    },
    {
      "cell_type": "code",
      "execution_count": null,
      "metadata": {
        "colab": {
          "base_uri": "https://localhost:8080/"
        },
        "id": "V9o30lg-F8Ar",
        "outputId": "a23e7742-41ba-4403-9156-2d8076488ef5"
      },
      "outputs": [],
      "source": [
        "!pip install -q https://github.com/Nomad1/wheels/releases/download/cu121/tinycudann-1.7-cp310-cp310-linux_x86_64.whl\n",
        "!pip install -q https://github.com/Nomad1/wheels/releases/download/cu121/nerfacc-0.5.3-cp310-cp310-linux_x86_64.whl\n",
        "!pip install -q https://github.com/Nomad1/wheels/releases/download/cu121/nvdiffrast-0.3.1-py3-none-any.whl\n",
        "!pip install -q https://github.com/Nomad1/wheels/releases/download/cu121/envlight-0.1.0-py3-none-any.whl\n",
        "!pip install -q https://github.com/Nomad1/wheels/releases/download/cu121/clip-1.0-py3-none-any.whl"
      ]
    },
    {
      "cell_type": "code",
      "execution_count": null,
      "metadata": {
        "colab": {
          "base_uri": "https://localhost:8080/"
        },
        "id": "L-PWyWgyHcGp",
        "outputId": "788fd6d2-7c6a-45a0-8f31-3164701ecd28"
      },
      "outputs": [],
      "source": [
        "!pip install -q ninja lightning==2.2.1 omegaconf==2.3.0 jaxtyping typeguard diffusers transformers accelerate opencv-python tensorboard matplotlib ninja\n",
        "!pip install -q imageio imageio[ffmpeg] trimesh bitsandbytes sentencepiece safetensors huggingface_hub libigl xatlas open3d plotly controlnet_aux wandb\n",
        "!pip install -q gradio==4.24.0 fire rembg diffusers==0.27.2 transformers==4.28.1 accelerate mediapipe\n",
        "!pip install -q git+https://github.com/camenduru/MVDream"
      ]
    },
    {
      "cell_type": "code",
      "execution_count": null,
      "metadata": {
        "colab": {
          "base_uri": "https://localhost:8080/"
        },
        "id": "7irlMbf-Ic-Q",
        "outputId": "af9db7e4-40db-4d51-d985-e5de9a07c60a"
      },
      "outputs": [],
      "source": [
        "%cd /content\n",
        "!git clone -b dev https://github.com/camenduru/MVDream-threestudio"
      ]
    },
    {
      "cell_type": "code",
      "execution_count": null,
      "metadata": {
        "colab": {
          "base_uri": "https://localhost:8080/"
        },
        "id": "lv9KO--cL-mR",
        "outputId": "c517689e-c3c5-43ea-d2f8-c01dc692e434"
      },
      "outputs": [],
      "source": [
        "%cd /content/MVDream-threestudio\n",
        "!curl https://raw.githubusercontent.com/Nomad1/wheels/main/MVDream-threestudio/gradio_app.py > gradio_app.py"
      ]
    },
    {
      "cell_type": "code",
      "execution_count": null,
      "metadata": {
        "colab": {
          "base_uri": "https://localhost:8080/"
        },
        "id": "wtNmAjy9I-vb",
        "outputId": "20a50fa5-da0a-4dec-8744-c30546248c9d"
      },
      "outputs": [],
      "source": [
        "%cd /content/MVDream-threestudio\n",
        "!python gradio_app.py launch --listen"
      ]
    }
  ],
  "metadata": {
    "accelerator": "GPU",
    "colab": {
      "gpuType": "A100",
      "machine_shape": "hm",
      "provenance": []
    },
    "kernelspec": {
      "display_name": "Python 3",
      "name": "python3"
    },
    "language_info": {
      "name": "python"
    }
  },
  "nbformat": 4,
  "nbformat_minor": 0
}
