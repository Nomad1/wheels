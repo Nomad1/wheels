{
  "cells": [
    {
      "cell_type": "markdown",
      "metadata": {
        "id": "view-in-github"
      },
      "source": [
        "[![Open In Colab](https://colab.research.google.com/assets/colab-badge.svg)](https://colab.research.google.com/github/camenduru/MVDream-colab/blob/main/MVDream_3D_colab.ipynb)"
      ]
    },
    {
      "cell_type": "code",
      "execution_count": null,
      "metadata": {
        "id": "or07WR6F5sOS"
      },
      "outputs": [],
      "source": [
        "!pip install -q torch==2.2.1+cu121 torchvision==0.17.1+cu121 torchaudio==2.2.1+cu121 --index-url https://download.pytorch.org/whl/cu121\n"
      ]
    },
    {
      "cell_type": "code",
      "execution_count": null,
      "metadata": {
        "id": "V9o30lg-F8Ar"
      },
      "outputs": [],
      "source": [
        "!pip install -q https://github.com/Nomad1/wheels/releases/download/cu121/tinycudann-1.7-cp310-cp310-linux_x86_64.whl\n",
        "!pip install -q https://github.com/Nomad1/wheels/releases/download/cu121/nerfacc-0.5.3-cp310-cp310-linux_x86_64.whl\n",
        "!pip install -q https://github.com/Nomad1/wheels/releases/download/cu121/nvdiffrast-0.3.1-py3-none-any.whl\n",
        "!pip install -q https://github.com/Nomad1/wheels/releases/download/cu121/envlight-0.1.0-py3-none-any.whl\n",
        "!pip install -q https://github.com/Nomad1/wheels/releases/download/cu121/clip-1.0-py3-none-any.whl"
      ]
    }
  ],
  "metadata": {
    "accelerator": "GPU",
    "colab": {
      "gpuType": "T4",
      "provenance": []
    },
    "kernelspec": {
      "display_name": "Python 3",
      "name": "python3"
    },
    "language_info": {
      "name": "python"
    }
  },
  "nbformat": 4,
  "nbformat_minor": 0
}
