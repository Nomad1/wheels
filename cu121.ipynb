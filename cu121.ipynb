!pip install -q torch==2.2.1+cu121 torchvision==0.17.1+cu121 torchaudio==2.2.1+cu121 --index-url https://download.pytorch.org/whl/cu121
!pip install -q https://github.com/Nomad1/wheels/releases/download/cu121/tinycudann-1.7-cp310-cp310-linux_x86_64.whl
!pip install -q https://github.com/Nomad1/wheels/releases/download/cu121/nerfacc-0.5.3-cp310-cp310-linux_x86_64.whl
!pip install -q https://github.com/Nomad1/wheels/releases/download/cu121/nvdiffrast-0.3.1-py3-none-any.whl
!pip install -q https://github.com/Nomad1/wheels/releases/download/cu121/envlight-0.1.0-py3-none-any.whl
!pip install -q https://github.com/Nomad1/wheels/releases/download/cu121/clip-1.0-py3-none-any.whl